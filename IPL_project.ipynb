{
 "cells": [
  {
   "cell_type": "code",
   "execution_count": 1,
   "metadata": {},
   "outputs": [],
   "source": [
    "import pandas as pd\n",
    "import numpy as np\n",
    "import matplotlib.pyplot as plt\n",
    "import seaborn as sns"
   ]
  },
  {
   "cell_type": "code",
   "execution_count": 121,
   "metadata": {},
   "outputs": [],
   "source": [
    "data=pd.read_csv(r'C:\\Users\\Bhaskar\\ODI_Cricket Match Dataset.csv')"
   ]
  },
  {
   "cell_type": "code",
   "execution_count": 122,
   "metadata": {},
   "outputs": [
    {
     "data": {
      "text/html": [
       "<div>\n",
       "<style scoped>\n",
       "    .dataframe tbody tr th:only-of-type {\n",
       "        vertical-align: middle;\n",
       "    }\n",
       "\n",
       "    .dataframe tbody tr th {\n",
       "        vertical-align: top;\n",
       "    }\n",
       "\n",
       "    .dataframe thead th {\n",
       "        text-align: right;\n",
       "    }\n",
       "</style>\n",
       "<table border=\"1\" class=\"dataframe\">\n",
       "  <thead>\n",
       "    <tr style=\"text-align: right;\">\n",
       "      <th></th>\n",
       "      <th>mid</th>\n",
       "      <th>date</th>\n",
       "      <th>venue</th>\n",
       "      <th>bat_team</th>\n",
       "      <th>bowl_team</th>\n",
       "      <th>batsman</th>\n",
       "      <th>bowler</th>\n",
       "      <th>runs</th>\n",
       "      <th>wickets</th>\n",
       "      <th>overs</th>\n",
       "      <th>runs_last_5</th>\n",
       "      <th>wickets_last_5</th>\n",
       "      <th>striker</th>\n",
       "      <th>non-striker</th>\n",
       "      <th>total</th>\n",
       "    </tr>\n",
       "  </thead>\n",
       "  <tbody>\n",
       "    <tr>\n",
       "      <th>0</th>\n",
       "      <td>1</td>\n",
       "      <td>2006-06-13</td>\n",
       "      <td>Civil Service Cricket Club, Stormont</td>\n",
       "      <td>England</td>\n",
       "      <td>Ireland</td>\n",
       "      <td>ME Trescothick</td>\n",
       "      <td>DT Johnston</td>\n",
       "      <td>0</td>\n",
       "      <td>0</td>\n",
       "      <td>0.1</td>\n",
       "      <td>0</td>\n",
       "      <td>0</td>\n",
       "      <td>0</td>\n",
       "      <td>0</td>\n",
       "      <td>301</td>\n",
       "    </tr>\n",
       "    <tr>\n",
       "      <th>1</th>\n",
       "      <td>1</td>\n",
       "      <td>2006-06-13</td>\n",
       "      <td>Civil Service Cricket Club, Stormont</td>\n",
       "      <td>England</td>\n",
       "      <td>Ireland</td>\n",
       "      <td>ME Trescothick</td>\n",
       "      <td>DT Johnston</td>\n",
       "      <td>0</td>\n",
       "      <td>0</td>\n",
       "      <td>0.2</td>\n",
       "      <td>0</td>\n",
       "      <td>0</td>\n",
       "      <td>0</td>\n",
       "      <td>0</td>\n",
       "      <td>301</td>\n",
       "    </tr>\n",
       "    <tr>\n",
       "      <th>2</th>\n",
       "      <td>1</td>\n",
       "      <td>2006-06-13</td>\n",
       "      <td>Civil Service Cricket Club, Stormont</td>\n",
       "      <td>England</td>\n",
       "      <td>Ireland</td>\n",
       "      <td>ME Trescothick</td>\n",
       "      <td>DT Johnston</td>\n",
       "      <td>4</td>\n",
       "      <td>0</td>\n",
       "      <td>0.3</td>\n",
       "      <td>4</td>\n",
       "      <td>0</td>\n",
       "      <td>0</td>\n",
       "      <td>0</td>\n",
       "      <td>301</td>\n",
       "    </tr>\n",
       "    <tr>\n",
       "      <th>3</th>\n",
       "      <td>1</td>\n",
       "      <td>2006-06-13</td>\n",
       "      <td>Civil Service Cricket Club, Stormont</td>\n",
       "      <td>England</td>\n",
       "      <td>Ireland</td>\n",
       "      <td>ME Trescothick</td>\n",
       "      <td>DT Johnston</td>\n",
       "      <td>6</td>\n",
       "      <td>0</td>\n",
       "      <td>0.4</td>\n",
       "      <td>6</td>\n",
       "      <td>0</td>\n",
       "      <td>0</td>\n",
       "      <td>0</td>\n",
       "      <td>301</td>\n",
       "    </tr>\n",
       "    <tr>\n",
       "      <th>4</th>\n",
       "      <td>1</td>\n",
       "      <td>2006-06-13</td>\n",
       "      <td>Civil Service Cricket Club, Stormont</td>\n",
       "      <td>England</td>\n",
       "      <td>Ireland</td>\n",
       "      <td>ME Trescothick</td>\n",
       "      <td>DT Johnston</td>\n",
       "      <td>6</td>\n",
       "      <td>0</td>\n",
       "      <td>0.5</td>\n",
       "      <td>6</td>\n",
       "      <td>0</td>\n",
       "      <td>0</td>\n",
       "      <td>0</td>\n",
       "      <td>301</td>\n",
       "    </tr>\n",
       "  </tbody>\n",
       "</table>\n",
       "</div>"
      ],
      "text/plain": [
       "   mid        date                                 venue bat_team bowl_team  \\\n",
       "0    1  2006-06-13  Civil Service Cricket Club, Stormont  England   Ireland   \n",
       "1    1  2006-06-13  Civil Service Cricket Club, Stormont  England   Ireland   \n",
       "2    1  2006-06-13  Civil Service Cricket Club, Stormont  England   Ireland   \n",
       "3    1  2006-06-13  Civil Service Cricket Club, Stormont  England   Ireland   \n",
       "4    1  2006-06-13  Civil Service Cricket Club, Stormont  England   Ireland   \n",
       "\n",
       "          batsman       bowler  runs  wickets  overs  runs_last_5  \\\n",
       "0  ME Trescothick  DT Johnston     0        0    0.1            0   \n",
       "1  ME Trescothick  DT Johnston     0        0    0.2            0   \n",
       "2  ME Trescothick  DT Johnston     4        0    0.3            4   \n",
       "3  ME Trescothick  DT Johnston     6        0    0.4            6   \n",
       "4  ME Trescothick  DT Johnston     6        0    0.5            6   \n",
       "\n",
       "   wickets_last_5  striker  non-striker  total  \n",
       "0               0        0            0    301  \n",
       "1               0        0            0    301  \n",
       "2               0        0            0    301  \n",
       "3               0        0            0    301  \n",
       "4               0        0            0    301  "
      ]
     },
     "execution_count": 122,
     "metadata": {},
     "output_type": "execute_result"
    }
   ],
   "source": [
    "data.head()"
   ]
  },
  {
   "cell_type": "code",
   "execution_count": 123,
   "metadata": {},
   "outputs": [
    {
     "data": {
      "text/plain": [
       "mid               0\n",
       "date              0\n",
       "venue             0\n",
       "bat_team          0\n",
       "bowl_team         0\n",
       "batsman           0\n",
       "bowler            0\n",
       "runs              0\n",
       "wickets           0\n",
       "overs             0\n",
       "runs_last_5       0\n",
       "wickets_last_5    0\n",
       "striker           0\n",
       "non-striker       0\n",
       "total             0\n",
       "dtype: int64"
      ]
     },
     "execution_count": 123,
     "metadata": {},
     "output_type": "execute_result"
    }
   ],
   "source": [
    "data.isnull().sum()"
   ]
  },
  {
   "cell_type": "code",
   "execution_count": 124,
   "metadata": {},
   "outputs": [
    {
     "name": "stdout",
     "output_type": "stream",
     "text": [
      "<class 'pandas.core.frame.DataFrame'>\n",
      "RangeIndex: 350899 entries, 0 to 350898\n",
      "Data columns (total 15 columns):\n",
      " #   Column          Non-Null Count   Dtype  \n",
      "---  ------          --------------   -----  \n",
      " 0   mid             350899 non-null  int64  \n",
      " 1   date            350899 non-null  object \n",
      " 2   venue           350899 non-null  object \n",
      " 3   bat_team        350899 non-null  object \n",
      " 4   bowl_team       350899 non-null  object \n",
      " 5   batsman         350899 non-null  object \n",
      " 6   bowler          350899 non-null  object \n",
      " 7   runs            350899 non-null  int64  \n",
      " 8   wickets         350899 non-null  int64  \n",
      " 9   overs           350899 non-null  float64\n",
      " 10  runs_last_5     350899 non-null  int64  \n",
      " 11  wickets_last_5  350899 non-null  int64  \n",
      " 12  striker         350899 non-null  int64  \n",
      " 13  non-striker     350899 non-null  int64  \n",
      " 14  total           350899 non-null  int64  \n",
      "dtypes: float64(1), int64(8), object(6)\n",
      "memory usage: 40.2+ MB\n"
     ]
    }
   ],
   "source": [
    "data.info()"
   ]
  },
  {
   "cell_type": "code",
   "execution_count": 125,
   "metadata": {},
   "outputs": [
    {
     "data": {
      "text/html": [
       "<div>\n",
       "<style scoped>\n",
       "    .dataframe tbody tr th:only-of-type {\n",
       "        vertical-align: middle;\n",
       "    }\n",
       "\n",
       "    .dataframe tbody tr th {\n",
       "        vertical-align: top;\n",
       "    }\n",
       "\n",
       "    .dataframe thead th {\n",
       "        text-align: right;\n",
       "    }\n",
       "</style>\n",
       "<table border=\"1\" class=\"dataframe\">\n",
       "  <thead>\n",
       "    <tr style=\"text-align: right;\">\n",
       "      <th></th>\n",
       "      <th>mid</th>\n",
       "      <th>runs</th>\n",
       "      <th>wickets</th>\n",
       "      <th>overs</th>\n",
       "      <th>runs_last_5</th>\n",
       "      <th>wickets_last_5</th>\n",
       "      <th>striker</th>\n",
       "      <th>non-striker</th>\n",
       "      <th>total</th>\n",
       "    </tr>\n",
       "  </thead>\n",
       "  <tbody>\n",
       "    <tr>\n",
       "      <th>count</th>\n",
       "      <td>350899.000000</td>\n",
       "      <td>350899.000000</td>\n",
       "      <td>350899.000000</td>\n",
       "      <td>350899.000000</td>\n",
       "      <td>350899.000000</td>\n",
       "      <td>350899.000000</td>\n",
       "      <td>350899.000000</td>\n",
       "      <td>350899.000000</td>\n",
       "      <td>350899.000000</td>\n",
       "    </tr>\n",
       "    <tr>\n",
       "      <th>mean</th>\n",
       "      <td>594.360426</td>\n",
       "      <td>114.801661</td>\n",
       "      <td>2.974970</td>\n",
       "      <td>24.052899</td>\n",
       "      <td>23.548303</td>\n",
       "      <td>0.669814</td>\n",
       "      <td>35.180129</td>\n",
       "      <td>12.427944</td>\n",
       "      <td>255.355387</td>\n",
       "    </tr>\n",
       "    <tr>\n",
       "      <th>std</th>\n",
       "      <td>343.605128</td>\n",
       "      <td>77.665959</td>\n",
       "      <td>2.298959</td>\n",
       "      <td>14.235439</td>\n",
       "      <td>11.042974</td>\n",
       "      <td>0.833895</td>\n",
       "      <td>28.115264</td>\n",
       "      <td>15.019181</td>\n",
       "      <td>62.354412</td>\n",
       "    </tr>\n",
       "    <tr>\n",
       "      <th>min</th>\n",
       "      <td>1.000000</td>\n",
       "      <td>0.000000</td>\n",
       "      <td>0.000000</td>\n",
       "      <td>0.000000</td>\n",
       "      <td>0.000000</td>\n",
       "      <td>0.000000</td>\n",
       "      <td>0.000000</td>\n",
       "      <td>0.000000</td>\n",
       "      <td>44.000000</td>\n",
       "    </tr>\n",
       "    <tr>\n",
       "      <th>25%</th>\n",
       "      <td>296.000000</td>\n",
       "      <td>51.000000</td>\n",
       "      <td>1.000000</td>\n",
       "      <td>11.600000</td>\n",
       "      <td>17.000000</td>\n",
       "      <td>0.000000</td>\n",
       "      <td>13.000000</td>\n",
       "      <td>2.000000</td>\n",
       "      <td>217.000000</td>\n",
       "    </tr>\n",
       "    <tr>\n",
       "      <th>50%</th>\n",
       "      <td>596.000000</td>\n",
       "      <td>105.000000</td>\n",
       "      <td>3.000000</td>\n",
       "      <td>23.600000</td>\n",
       "      <td>23.000000</td>\n",
       "      <td>0.000000</td>\n",
       "      <td>29.000000</td>\n",
       "      <td>7.000000</td>\n",
       "      <td>257.000000</td>\n",
       "    </tr>\n",
       "    <tr>\n",
       "      <th>75%</th>\n",
       "      <td>893.000000</td>\n",
       "      <td>168.000000</td>\n",
       "      <td>4.000000</td>\n",
       "      <td>36.200000</td>\n",
       "      <td>29.000000</td>\n",
       "      <td>1.000000</td>\n",
       "      <td>50.000000</td>\n",
       "      <td>18.000000</td>\n",
       "      <td>298.000000</td>\n",
       "    </tr>\n",
       "    <tr>\n",
       "      <th>max</th>\n",
       "      <td>1188.000000</td>\n",
       "      <td>444.000000</td>\n",
       "      <td>10.000000</td>\n",
       "      <td>49.600000</td>\n",
       "      <td>101.000000</td>\n",
       "      <td>7.000000</td>\n",
       "      <td>264.000000</td>\n",
       "      <td>149.000000</td>\n",
       "      <td>444.000000</td>\n",
       "    </tr>\n",
       "  </tbody>\n",
       "</table>\n",
       "</div>"
      ],
      "text/plain": [
       "                 mid           runs        wickets          overs  \\\n",
       "count  350899.000000  350899.000000  350899.000000  350899.000000   \n",
       "mean      594.360426     114.801661       2.974970      24.052899   \n",
       "std       343.605128      77.665959       2.298959      14.235439   \n",
       "min         1.000000       0.000000       0.000000       0.000000   \n",
       "25%       296.000000      51.000000       1.000000      11.600000   \n",
       "50%       596.000000     105.000000       3.000000      23.600000   \n",
       "75%       893.000000     168.000000       4.000000      36.200000   \n",
       "max      1188.000000     444.000000      10.000000      49.600000   \n",
       "\n",
       "         runs_last_5  wickets_last_5        striker    non-striker  \\\n",
       "count  350899.000000   350899.000000  350899.000000  350899.000000   \n",
       "mean       23.548303        0.669814      35.180129      12.427944   \n",
       "std        11.042974        0.833895      28.115264      15.019181   \n",
       "min         0.000000        0.000000       0.000000       0.000000   \n",
       "25%        17.000000        0.000000      13.000000       2.000000   \n",
       "50%        23.000000        0.000000      29.000000       7.000000   \n",
       "75%        29.000000        1.000000      50.000000      18.000000   \n",
       "max       101.000000        7.000000     264.000000     149.000000   \n",
       "\n",
       "               total  \n",
       "count  350899.000000  \n",
       "mean      255.355387  \n",
       "std        62.354412  \n",
       "min        44.000000  \n",
       "25%       217.000000  \n",
       "50%       257.000000  \n",
       "75%       298.000000  \n",
       "max       444.000000  "
      ]
     },
     "execution_count": 125,
     "metadata": {},
     "output_type": "execute_result"
    }
   ],
   "source": [
    "data.describe()"
   ]
  },
  {
   "cell_type": "code",
   "execution_count": 126,
   "metadata": {},
   "outputs": [
    {
     "data": {
      "text/plain": [
       "<seaborn.axisgrid.FacetGrid at 0x2664a3f20d0>"
      ]
     },
     "execution_count": 126,
     "metadata": {},
     "output_type": "execute_result"
    },
    {
     "data": {
      "image/png": "[encoded data removed]",
      "text/plain": [
       "<Figure size 360x360 with 1 Axes>"
      ]
     },
     "metadata": {
      "needs_background": "light"
     },
     "output_type": "display_data"
    }
   ],
   "source": [
    "sns.displot(data.runs)"
   ]
  },
  {
   "cell_type": "code",
   "execution_count": 127,
   "metadata": {},
   "outputs": [
    {
     "name": "stderr",
     "output_type": "stream",
     "text": [
      "C:\\Users\\Bhaskar\\anaconda3\\lib\\site-packages\\seaborn\\_decorators.py:36: FutureWarning: Pass the following variable as a keyword arg: x. From version 0.12, the only valid positional argument will be `data`, and passing other arguments without an explicit keyword will result in an error or misinterpretation.\n",
      "  warnings.warn(\n"
     ]
    },
    {
     "data": {
      "text/plain": [
       "<AxesSubplot:xlabel='runs'>"
      ]
     },
     "execution_count": 127,
     "metadata": {},
     "output_type": "execute_result"
    },
    {
     "data": {
      "image/png": "[encoded data removed]",
      "text/plain": [
       "<Figure size 720x288 with 1 Axes>"
      ]
     },
     "metadata": {
      "needs_background": "light"
     },
     "output_type": "display_data"
    }
   ],
   "source": [
    "plt.figure(figsize=(10,4))\n",
    "sns.boxplot(data.runs)"
   ]
  },
  {
   "cell_type": "code",
   "execution_count": 128,
   "metadata": {},
   "outputs": [],
   "source": [
    "remove=['mid','venue', 'batsman', 'bowler','striker',\n",
    "       'non-striker']\n",
    "data.drop(labels=remove,axis=1,inplace=True)"
   ]
  },
  {
   "cell_type": "code",
   "execution_count": 129,
   "metadata": {},
   "outputs": [
    {
     "data": {
      "text/plain": [
       "Index(['date', 'bat_team', 'bowl_team', 'runs', 'wickets', 'overs',\n",
       "       'runs_last_5', 'wickets_last_5', 'total'],\n",
       "      dtype='object')"
      ]
     },
     "execution_count": 129,
     "metadata": {},
     "output_type": "execute_result"
    }
   ],
   "source": [
    "data.columns"
   ]
  },
  {
   "cell_type": "code",
   "execution_count": 130,
   "metadata": {},
   "outputs": [
    {
     "data": {
      "text/html": [
       "<div>\n",
       "<style scoped>\n",
       "    .dataframe tbody tr th:only-of-type {\n",
       "        vertical-align: middle;\n",
       "    }\n",
       "\n",
       "    .dataframe tbody tr th {\n",
       "        vertical-align: top;\n",
       "    }\n",
       "\n",
       "    .dataframe thead th {\n",
       "        text-align: right;\n",
       "    }\n",
       "</style>\n",
       "<table border=\"1\" class=\"dataframe\">\n",
       "  <thead>\n",
       "    <tr style=\"text-align: right;\">\n",
       "      <th></th>\n",
       "      <th>date</th>\n",
       "      <th>bat_team</th>\n",
       "      <th>bowl_team</th>\n",
       "      <th>runs</th>\n",
       "      <th>wickets</th>\n",
       "      <th>overs</th>\n",
       "      <th>runs_last_5</th>\n",
       "      <th>wickets_last_5</th>\n",
       "      <th>total</th>\n",
       "    </tr>\n",
       "  </thead>\n",
       "  <tbody>\n",
       "    <tr>\n",
       "      <th>0</th>\n",
       "      <td>2006-06-13</td>\n",
       "      <td>England</td>\n",
       "      <td>Ireland</td>\n",
       "      <td>0</td>\n",
       "      <td>0</td>\n",
       "      <td>0.1</td>\n",
       "      <td>0</td>\n",
       "      <td>0</td>\n",
       "      <td>301</td>\n",
       "    </tr>\n",
       "    <tr>\n",
       "      <th>1</th>\n",
       "      <td>2006-06-13</td>\n",
       "      <td>England</td>\n",
       "      <td>Ireland</td>\n",
       "      <td>0</td>\n",
       "      <td>0</td>\n",
       "      <td>0.2</td>\n",
       "      <td>0</td>\n",
       "      <td>0</td>\n",
       "      <td>301</td>\n",
       "    </tr>\n",
       "    <tr>\n",
       "      <th>2</th>\n",
       "      <td>2006-06-13</td>\n",
       "      <td>England</td>\n",
       "      <td>Ireland</td>\n",
       "      <td>4</td>\n",
       "      <td>0</td>\n",
       "      <td>0.3</td>\n",
       "      <td>4</td>\n",
       "      <td>0</td>\n",
       "      <td>301</td>\n",
       "    </tr>\n",
       "    <tr>\n",
       "      <th>3</th>\n",
       "      <td>2006-06-13</td>\n",
       "      <td>England</td>\n",
       "      <td>Ireland</td>\n",
       "      <td>6</td>\n",
       "      <td>0</td>\n",
       "      <td>0.4</td>\n",
       "      <td>6</td>\n",
       "      <td>0</td>\n",
       "      <td>301</td>\n",
       "    </tr>\n",
       "    <tr>\n",
       "      <th>4</th>\n",
       "      <td>2006-06-13</td>\n",
       "      <td>England</td>\n",
       "      <td>Ireland</td>\n",
       "      <td>6</td>\n",
       "      <td>0</td>\n",
       "      <td>0.5</td>\n",
       "      <td>6</td>\n",
       "      <td>0</td>\n",
       "      <td>301</td>\n",
       "    </tr>\n",
       "  </tbody>\n",
       "</table>\n",
       "</div>"
      ],
      "text/plain": [
       "         date bat_team bowl_team  runs  wickets  overs  runs_last_5  \\\n",
       "0  2006-06-13  England   Ireland     0        0    0.1            0   \n",
       "1  2006-06-13  England   Ireland     0        0    0.2            0   \n",
       "2  2006-06-13  England   Ireland     4        0    0.3            4   \n",
       "3  2006-06-13  England   Ireland     6        0    0.4            6   \n",
       "4  2006-06-13  England   Ireland     6        0    0.5            6   \n",
       "\n",
       "   wickets_last_5  total  \n",
       "0               0    301  \n",
       "1               0    301  \n",
       "2               0    301  \n",
       "3               0    301  \n",
       "4               0    301  "
      ]
     },
     "execution_count": 130,
     "metadata": {},
     "output_type": "execute_result"
    }
   ],
   "source": [
    "data.head()"
   ]
  },
  {
   "cell_type": "code",
   "execution_count": 131,
   "metadata": {},
   "outputs": [
    {
     "name": "stdout",
     "output_type": "stream",
     "text": [
      "['England' 'Pakistan' 'Sri Lanka' 'Australia' 'South Africa' 'New Zealand'\n",
      " 'Bangladesh' 'West Indies' 'India' 'Zimbabwe' 'Ireland' 'Scotland'\n",
      " 'Kenya' 'Bermuda' 'Netherlands' 'Canada' 'Asia XI' 'Afghanistan'\n",
      " 'United Arab Emirates' 'Hong Kong' 'Papua New Guinea']\n",
      "['Ireland' 'Pakistan' 'England' 'Sri Lanka' 'South Africa' 'Australia'\n",
      " 'New Zealand' 'India' 'West Indies' 'Bangladesh' 'Zimbabwe' 'Scotland'\n",
      " 'Bermuda' 'Netherlands' 'Canada' 'Kenya' 'Africa XI'\n",
      " 'United Arab Emirates' 'Hong Kong' 'Afghanistan' 'Papua New Guinea']\n"
     ]
    }
   ],
   "source": [
    "print(data['bat_team'].unique())\n",
    "print(data['bowl_team'].unique())"
   ]
  },
  {
   "cell_type": "code",
   "execution_count": 132,
   "metadata": {},
   "outputs": [],
   "source": [
    "conteant_teams=['England', 'Pakistan' ,'Sri Lanka' ,'Australia' ,'South Africa', 'New Zealand','Bangladesh' ,'West Indies' ,'India']"
   ]
  },
  {
   "cell_type": "code",
   "execution_count": 133,
   "metadata": {},
   "outputs": [
    {
     "data": {
      "text/plain": [
       "['England',\n",
       " 'Pakistan',\n",
       " 'Sri Lanka',\n",
       " 'Australia',\n",
       " 'South Africa',\n",
       " 'New Zealand',\n",
       " 'Bangladesh',\n",
       " 'West Indies',\n",
       " 'India']"
      ]
     },
     "execution_count": 133,
     "metadata": {},
     "output_type": "execute_result"
    }
   ],
   "source": [
    "conteant_teams"
   ]
  },
  {
   "cell_type": "code",
   "execution_count": 134,
   "metadata": {},
   "outputs": [],
   "source": [
    "data=data[(data['bat_team'].isin(conteant_teams))&(data['bowl_team'].isin(conteant_teams))]"
   ]
  },
  {
   "cell_type": "code",
   "execution_count": 135,
   "metadata": {},
   "outputs": [
    {
     "data": {
      "text/html": [
       "<div>\n",
       "<style scoped>\n",
       "    .dataframe tbody tr th:only-of-type {\n",
       "        vertical-align: middle;\n",
       "    }\n",
       "\n",
       "    .dataframe tbody tr th {\n",
       "        vertical-align: top;\n",
       "    }\n",
       "\n",
       "    .dataframe thead th {\n",
       "        text-align: right;\n",
       "    }\n",
       "</style>\n",
       "<table border=\"1\" class=\"dataframe\">\n",
       "  <thead>\n",
       "    <tr style=\"text-align: right;\">\n",
       "      <th></th>\n",
       "      <th>date</th>\n",
       "      <th>bat_team</th>\n",
       "      <th>bowl_team</th>\n",
       "      <th>runs</th>\n",
       "      <th>wickets</th>\n",
       "      <th>overs</th>\n",
       "      <th>runs_last_5</th>\n",
       "      <th>wickets_last_5</th>\n",
       "      <th>total</th>\n",
       "    </tr>\n",
       "  </thead>\n",
       "  <tbody>\n",
       "    <tr>\n",
       "      <th>315</th>\n",
       "      <td>2006-09-05</td>\n",
       "      <td>England</td>\n",
       "      <td>Pakistan</td>\n",
       "      <td>0</td>\n",
       "      <td>1</td>\n",
       "      <td>0.1</td>\n",
       "      <td>0</td>\n",
       "      <td>1</td>\n",
       "      <td>271</td>\n",
       "    </tr>\n",
       "    <tr>\n",
       "      <th>316</th>\n",
       "      <td>2006-09-05</td>\n",
       "      <td>England</td>\n",
       "      <td>Pakistan</td>\n",
       "      <td>1</td>\n",
       "      <td>1</td>\n",
       "      <td>0.2</td>\n",
       "      <td>1</td>\n",
       "      <td>1</td>\n",
       "      <td>271</td>\n",
       "    </tr>\n",
       "    <tr>\n",
       "      <th>317</th>\n",
       "      <td>2006-09-05</td>\n",
       "      <td>England</td>\n",
       "      <td>Pakistan</td>\n",
       "      <td>1</td>\n",
       "      <td>1</td>\n",
       "      <td>0.3</td>\n",
       "      <td>1</td>\n",
       "      <td>1</td>\n",
       "      <td>271</td>\n",
       "    </tr>\n",
       "    <tr>\n",
       "      <th>318</th>\n",
       "      <td>2006-09-05</td>\n",
       "      <td>England</td>\n",
       "      <td>Pakistan</td>\n",
       "      <td>5</td>\n",
       "      <td>1</td>\n",
       "      <td>0.4</td>\n",
       "      <td>5</td>\n",
       "      <td>1</td>\n",
       "      <td>271</td>\n",
       "    </tr>\n",
       "    <tr>\n",
       "      <th>319</th>\n",
       "      <td>2006-09-05</td>\n",
       "      <td>England</td>\n",
       "      <td>Pakistan</td>\n",
       "      <td>6</td>\n",
       "      <td>1</td>\n",
       "      <td>0.5</td>\n",
       "      <td>6</td>\n",
       "      <td>1</td>\n",
       "      <td>271</td>\n",
       "    </tr>\n",
       "    <tr>\n",
       "      <th>...</th>\n",
       "      <td>...</td>\n",
       "      <td>...</td>\n",
       "      <td>...</td>\n",
       "      <td>...</td>\n",
       "      <td>...</td>\n",
       "      <td>...</td>\n",
       "      <td>...</td>\n",
       "      <td>...</td>\n",
       "      <td>...</td>\n",
       "    </tr>\n",
       "    <tr>\n",
       "      <th>349763</th>\n",
       "      <td>2017-07-06</td>\n",
       "      <td>West Indies</td>\n",
       "      <td>India</td>\n",
       "      <td>203</td>\n",
       "      <td>8</td>\n",
       "      <td>49.2</td>\n",
       "      <td>29</td>\n",
       "      <td>1</td>\n",
       "      <td>205</td>\n",
       "    </tr>\n",
       "    <tr>\n",
       "      <th>349764</th>\n",
       "      <td>2017-07-06</td>\n",
       "      <td>West Indies</td>\n",
       "      <td>India</td>\n",
       "      <td>205</td>\n",
       "      <td>8</td>\n",
       "      <td>49.3</td>\n",
       "      <td>30</td>\n",
       "      <td>1</td>\n",
       "      <td>205</td>\n",
       "    </tr>\n",
       "    <tr>\n",
       "      <th>349765</th>\n",
       "      <td>2017-07-06</td>\n",
       "      <td>West Indies</td>\n",
       "      <td>India</td>\n",
       "      <td>205</td>\n",
       "      <td>9</td>\n",
       "      <td>49.4</td>\n",
       "      <td>30</td>\n",
       "      <td>2</td>\n",
       "      <td>205</td>\n",
       "    </tr>\n",
       "    <tr>\n",
       "      <th>349766</th>\n",
       "      <td>2017-07-06</td>\n",
       "      <td>West Indies</td>\n",
       "      <td>India</td>\n",
       "      <td>205</td>\n",
       "      <td>9</td>\n",
       "      <td>49.5</td>\n",
       "      <td>30</td>\n",
       "      <td>2</td>\n",
       "      <td>205</td>\n",
       "    </tr>\n",
       "    <tr>\n",
       "      <th>349767</th>\n",
       "      <td>2017-07-06</td>\n",
       "      <td>West Indies</td>\n",
       "      <td>India</td>\n",
       "      <td>205</td>\n",
       "      <td>9</td>\n",
       "      <td>49.6</td>\n",
       "      <td>30</td>\n",
       "      <td>2</td>\n",
       "      <td>205</td>\n",
       "    </tr>\n",
       "  </tbody>\n",
       "</table>\n",
       "<p>259179 rows × 9 columns</p>\n",
       "</div>"
      ],
      "text/plain": [
       "              date     bat_team bowl_team  runs  wickets  overs  runs_last_5  \\\n",
       "315     2006-09-05      England  Pakistan     0        1    0.1            0   \n",
       "316     2006-09-05      England  Pakistan     1        1    0.2            1   \n",
       "317     2006-09-05      England  Pakistan     1        1    0.3            1   \n",
       "318     2006-09-05      England  Pakistan     5        1    0.4            5   \n",
       "319     2006-09-05      England  Pakistan     6        1    0.5            6   \n",
       "...            ...          ...       ...   ...      ...    ...          ...   \n",
       "349763  2017-07-06  West Indies     India   203        8   49.2           29   \n",
       "349764  2017-07-06  West Indies     India   205        8   49.3           30   \n",
       "349765  2017-07-06  West Indies     India   205        9   49.4           30   \n",
       "349766  2017-07-06  West Indies     India   205        9   49.5           30   \n",
       "349767  2017-07-06  West Indies     India   205        9   49.6           30   \n",
       "\n",
       "        wickets_last_5  total  \n",
       "315                  1    271  \n",
       "316                  1    271  \n",
       "317                  1    271  \n",
       "318                  1    271  \n",
       "319                  1    271  \n",
       "...                ...    ...  \n",
       "349763               1    205  \n",
       "349764               1    205  \n",
       "349765               2    205  \n",
       "349766               2    205  \n",
       "349767               2    205  \n",
       "\n",
       "[259179 rows x 9 columns]"
      ]
     },
     "execution_count": 135,
     "metadata": {},
     "output_type": "execute_result"
    }
   ],
   "source": [
    "data"
   ]
  },
  {
   "cell_type": "code",
   "execution_count": 136,
   "metadata": {},
   "outputs": [],
   "source": [
    "data=data[data['overs']>=5.0]"
   ]
  },
  {
   "cell_type": "code",
   "execution_count": 137,
   "metadata": {},
   "outputs": [
    {
     "data": {
      "text/plain": [
       "array(['England', 'Pakistan', 'Sri Lanka', 'Australia', 'South Africa',\n",
       "       'New Zealand', 'Bangladesh', 'West Indies', 'India'], dtype=object)"
      ]
     },
     "execution_count": 137,
     "metadata": {},
     "output_type": "execute_result"
    }
   ],
   "source": [
    "data['bat_team'].unique()"
   ]
  },
  {
   "cell_type": "code",
   "execution_count": null,
   "metadata": {},
   "outputs": [],
   "source": [
    "\n"
   ]
  },
  {
   "cell_type": "code",
   "execution_count": 138,
   "metadata": {},
   "outputs": [],
   "source": [
    "from datetime import datetime"
   ]
  },
  {
   "cell_type": "code",
   "execution_count": 139,
   "metadata": {},
   "outputs": [
    {
     "name": "stderr",
     "output_type": "stream",
     "text": [
      "<ipython-input-139-0c3d0c48dcb7>:1: SettingWithCopyWarning: \n",
      "A value is trying to be set on a copy of a slice from a DataFrame.\n",
      "Try using .loc[row_indexer,col_indexer] = value instead\n",
      "\n",
      "See the caveats in the documentation: https://pandas.pydata.org/pandas-docs/stable/user_guide/indexing.html#returning-a-view-versus-a-copy\n",
      "  data['date']=data['date'].apply(lambda x:datetime.strptime(x,'%Y-%m-%d'))\n"
     ]
    }
   ],
   "source": [
    "data['date']=data['date'].apply(lambda x:datetime.strptime(x,'%Y-%m-%d'))"
   ]
  },
  {
   "cell_type": "code",
   "execution_count": 140,
   "metadata": {},
   "outputs": [
    {
     "data": {
      "text/html": [
       "<div>\n",
       "<style scoped>\n",
       "    .dataframe tbody tr th:only-of-type {\n",
       "        vertical-align: middle;\n",
       "    }\n",
       "\n",
       "    .dataframe tbody tr th {\n",
       "        vertical-align: top;\n",
       "    }\n",
       "\n",
       "    .dataframe thead th {\n",
       "        text-align: right;\n",
       "    }\n",
       "</style>\n",
       "<table border=\"1\" class=\"dataframe\">\n",
       "  <thead>\n",
       "    <tr style=\"text-align: right;\">\n",
       "      <th></th>\n",
       "      <th>date</th>\n",
       "      <th>bat_team</th>\n",
       "      <th>bowl_team</th>\n",
       "      <th>runs</th>\n",
       "      <th>wickets</th>\n",
       "      <th>overs</th>\n",
       "      <th>runs_last_5</th>\n",
       "      <th>wickets_last_5</th>\n",
       "      <th>total</th>\n",
       "    </tr>\n",
       "  </thead>\n",
       "  <tbody>\n",
       "    <tr>\n",
       "      <th>347</th>\n",
       "      <td>2006-09-05</td>\n",
       "      <td>England</td>\n",
       "      <td>Pakistan</td>\n",
       "      <td>29</td>\n",
       "      <td>1</td>\n",
       "      <td>5.1</td>\n",
       "      <td>28</td>\n",
       "      <td>0</td>\n",
       "      <td>271</td>\n",
       "    </tr>\n",
       "    <tr>\n",
       "      <th>348</th>\n",
       "      <td>2006-09-05</td>\n",
       "      <td>England</td>\n",
       "      <td>Pakistan</td>\n",
       "      <td>30</td>\n",
       "      <td>1</td>\n",
       "      <td>5.2</td>\n",
       "      <td>25</td>\n",
       "      <td>0</td>\n",
       "      <td>271</td>\n",
       "    </tr>\n",
       "    <tr>\n",
       "      <th>349</th>\n",
       "      <td>2006-09-05</td>\n",
       "      <td>England</td>\n",
       "      <td>Pakistan</td>\n",
       "      <td>30</td>\n",
       "      <td>1</td>\n",
       "      <td>5.3</td>\n",
       "      <td>24</td>\n",
       "      <td>0</td>\n",
       "      <td>271</td>\n",
       "    </tr>\n",
       "    <tr>\n",
       "      <th>350</th>\n",
       "      <td>2006-09-05</td>\n",
       "      <td>England</td>\n",
       "      <td>Pakistan</td>\n",
       "      <td>34</td>\n",
       "      <td>1</td>\n",
       "      <td>5.4</td>\n",
       "      <td>28</td>\n",
       "      <td>0</td>\n",
       "      <td>271</td>\n",
       "    </tr>\n",
       "    <tr>\n",
       "      <th>351</th>\n",
       "      <td>2006-09-05</td>\n",
       "      <td>England</td>\n",
       "      <td>Pakistan</td>\n",
       "      <td>35</td>\n",
       "      <td>1</td>\n",
       "      <td>5.5</td>\n",
       "      <td>29</td>\n",
       "      <td>0</td>\n",
       "      <td>271</td>\n",
       "    </tr>\n",
       "  </tbody>\n",
       "</table>\n",
       "</div>"
      ],
      "text/plain": [
       "          date bat_team bowl_team  runs  wickets  overs  runs_last_5  \\\n",
       "347 2006-09-05  England  Pakistan    29        1    5.1           28   \n",
       "348 2006-09-05  England  Pakistan    30        1    5.2           25   \n",
       "349 2006-09-05  England  Pakistan    30        1    5.3           24   \n",
       "350 2006-09-05  England  Pakistan    34        1    5.4           28   \n",
       "351 2006-09-05  England  Pakistan    35        1    5.5           29   \n",
       "\n",
       "     wickets_last_5  total  \n",
       "347               0    271  \n",
       "348               0    271  \n",
       "349               0    271  \n",
       "350               0    271  \n",
       "351               0    271  "
      ]
     },
     "execution_count": 140,
     "metadata": {},
     "output_type": "execute_result"
    }
   ],
   "source": [
    "data.head()"
   ]
  },
  {
   "cell_type": "code",
   "execution_count": 141,
   "metadata": {},
   "outputs": [],
   "source": [
    "encoder_df=pd.get_dummies(data=data,columns=['bat_team','bowl_team'])"
   ]
  },
  {
   "cell_type": "code",
   "execution_count": 142,
   "metadata": {},
   "outputs": [
    {
     "data": {
      "text/plain": [
       "Index(['date', 'runs', 'wickets', 'overs', 'runs_last_5', 'wickets_last_5',\n",
       "       'total', 'bat_team_Australia', 'bat_team_Bangladesh',\n",
       "       'bat_team_England', 'bat_team_India', 'bat_team_New Zealand',\n",
       "       'bat_team_Pakistan', 'bat_team_South Africa', 'bat_team_Sri Lanka',\n",
       "       'bat_team_West Indies', 'bowl_team_Australia', 'bowl_team_Bangladesh',\n",
       "       'bowl_team_England', 'bowl_team_India', 'bowl_team_New Zealand',\n",
       "       'bowl_team_Pakistan', 'bowl_team_South Africa', 'bowl_team_Sri Lanka',\n",
       "       'bowl_team_West Indies'],\n",
       "      dtype='object')"
      ]
     },
     "execution_count": 142,
     "metadata": {},
     "output_type": "execute_result"
    }
   ],
   "source": [
    "encoder_df.columns\n"
   ]
  },
  {
   "cell_type": "code",
   "execution_count": 143,
   "metadata": {},
   "outputs": [],
   "source": [
    "encoder_df = encoder_df[['date','bat_team_Australia', 'bat_team_Bangladesh',\n",
    "       'bat_team_England', 'bat_team_India', 'bat_team_New Zealand',\n",
    "       'bat_team_Pakistan', 'bat_team_South Africa', 'bat_team_Sri Lanka',\n",
    "       'bat_team_West Indies', 'bowl_team_Australia', 'bowl_team_Bangladesh',\n",
    "       'bowl_team_England', 'bowl_team_India', 'bowl_team_New Zealand',\n",
    "       'bowl_team_Pakistan', 'bowl_team_South Africa', 'bowl_team_Sri Lanka',\n",
    "       'bowl_team_West Indies', 'runs', 'wickets', 'overs', 'runs_last_5', 'wickets_last_5',\n",
    "       'total']]"
   ]
  },
  {
   "cell_type": "code",
   "execution_count": 144,
   "metadata": {},
   "outputs": [],
   "source": [
    "from sklearn.model_selection import train_test_split"
   ]
  },
  {
   "cell_type": "code",
   "execution_count": 145,
   "metadata": {},
   "outputs": [],
   "source": [
    "x_train=encoder_df.drop(labels='total',axis=1)[encoder_df['date'].dt.year<=2016]\n",
    "x_test=encoder_df.drop(labels='total',axis=1)[encoder_df['date'].dt.year>=2017]"
   ]
  },
  {
   "cell_type": "code",
   "execution_count": 146,
   "metadata": {},
   "outputs": [
    {
     "data": {
      "text/html": [
       "<div>\n",
       "<style scoped>\n",
       "    .dataframe tbody tr th:only-of-type {\n",
       "        vertical-align: middle;\n",
       "    }\n",
       "\n",
       "    .dataframe tbody tr th {\n",
       "        vertical-align: top;\n",
       "    }\n",
       "\n",
       "    .dataframe thead th {\n",
       "        text-align: right;\n",
       "    }\n",
       "</style>\n",
       "<table border=\"1\" class=\"dataframe\">\n",
       "  <thead>\n",
       "    <tr style=\"text-align: right;\">\n",
       "      <th></th>\n",
       "      <th>date</th>\n",
       "      <th>bat_team_Australia</th>\n",
       "      <th>bat_team_Bangladesh</th>\n",
       "      <th>bat_team_England</th>\n",
       "      <th>bat_team_India</th>\n",
       "      <th>bat_team_New Zealand</th>\n",
       "      <th>bat_team_Pakistan</th>\n",
       "      <th>bat_team_South Africa</th>\n",
       "      <th>bat_team_Sri Lanka</th>\n",
       "      <th>bat_team_West Indies</th>\n",
       "      <th>...</th>\n",
       "      <th>bowl_team_New Zealand</th>\n",
       "      <th>bowl_team_Pakistan</th>\n",
       "      <th>bowl_team_South Africa</th>\n",
       "      <th>bowl_team_Sri Lanka</th>\n",
       "      <th>bowl_team_West Indies</th>\n",
       "      <th>runs</th>\n",
       "      <th>wickets</th>\n",
       "      <th>overs</th>\n",
       "      <th>runs_last_5</th>\n",
       "      <th>wickets_last_5</th>\n",
       "    </tr>\n",
       "  </thead>\n",
       "  <tbody>\n",
       "    <tr>\n",
       "      <th>316449</th>\n",
       "      <td>2017-01-28</td>\n",
       "      <td>0</td>\n",
       "      <td>0</td>\n",
       "      <td>0</td>\n",
       "      <td>0</td>\n",
       "      <td>0</td>\n",
       "      <td>0</td>\n",
       "      <td>0</td>\n",
       "      <td>1</td>\n",
       "      <td>0</td>\n",
       "      <td>...</td>\n",
       "      <td>0</td>\n",
       "      <td>0</td>\n",
       "      <td>1</td>\n",
       "      <td>0</td>\n",
       "      <td>0</td>\n",
       "      <td>16</td>\n",
       "      <td>2</td>\n",
       "      <td>5.1</td>\n",
       "      <td>16</td>\n",
       "      <td>2</td>\n",
       "    </tr>\n",
       "    <tr>\n",
       "      <th>316450</th>\n",
       "      <td>2017-01-28</td>\n",
       "      <td>0</td>\n",
       "      <td>0</td>\n",
       "      <td>0</td>\n",
       "      <td>0</td>\n",
       "      <td>0</td>\n",
       "      <td>0</td>\n",
       "      <td>0</td>\n",
       "      <td>1</td>\n",
       "      <td>0</td>\n",
       "      <td>...</td>\n",
       "      <td>0</td>\n",
       "      <td>0</td>\n",
       "      <td>1</td>\n",
       "      <td>0</td>\n",
       "      <td>0</td>\n",
       "      <td>16</td>\n",
       "      <td>2</td>\n",
       "      <td>5.2</td>\n",
       "      <td>16</td>\n",
       "      <td>2</td>\n",
       "    </tr>\n",
       "    <tr>\n",
       "      <th>316451</th>\n",
       "      <td>2017-01-28</td>\n",
       "      <td>0</td>\n",
       "      <td>0</td>\n",
       "      <td>0</td>\n",
       "      <td>0</td>\n",
       "      <td>0</td>\n",
       "      <td>0</td>\n",
       "      <td>0</td>\n",
       "      <td>1</td>\n",
       "      <td>0</td>\n",
       "      <td>...</td>\n",
       "      <td>0</td>\n",
       "      <td>0</td>\n",
       "      <td>1</td>\n",
       "      <td>0</td>\n",
       "      <td>0</td>\n",
       "      <td>16</td>\n",
       "      <td>2</td>\n",
       "      <td>5.3</td>\n",
       "      <td>15</td>\n",
       "      <td>2</td>\n",
       "    </tr>\n",
       "    <tr>\n",
       "      <th>316452</th>\n",
       "      <td>2017-01-28</td>\n",
       "      <td>0</td>\n",
       "      <td>0</td>\n",
       "      <td>0</td>\n",
       "      <td>0</td>\n",
       "      <td>0</td>\n",
       "      <td>0</td>\n",
       "      <td>0</td>\n",
       "      <td>1</td>\n",
       "      <td>0</td>\n",
       "      <td>...</td>\n",
       "      <td>0</td>\n",
       "      <td>0</td>\n",
       "      <td>1</td>\n",
       "      <td>0</td>\n",
       "      <td>0</td>\n",
       "      <td>16</td>\n",
       "      <td>2</td>\n",
       "      <td>5.4</td>\n",
       "      <td>15</td>\n",
       "      <td>2</td>\n",
       "    </tr>\n",
       "    <tr>\n",
       "      <th>316453</th>\n",
       "      <td>2017-01-28</td>\n",
       "      <td>0</td>\n",
       "      <td>0</td>\n",
       "      <td>0</td>\n",
       "      <td>0</td>\n",
       "      <td>0</td>\n",
       "      <td>0</td>\n",
       "      <td>0</td>\n",
       "      <td>1</td>\n",
       "      <td>0</td>\n",
       "      <td>...</td>\n",
       "      <td>0</td>\n",
       "      <td>0</td>\n",
       "      <td>1</td>\n",
       "      <td>0</td>\n",
       "      <td>0</td>\n",
       "      <td>16</td>\n",
       "      <td>2</td>\n",
       "      <td>5.5</td>\n",
       "      <td>15</td>\n",
       "      <td>2</td>\n",
       "    </tr>\n",
       "  </tbody>\n",
       "</table>\n",
       "<p>5 rows × 24 columns</p>\n",
       "</div>"
      ],
      "text/plain": [
       "             date  bat_team_Australia  bat_team_Bangladesh  bat_team_England  \\\n",
       "316449 2017-01-28                   0                    0                 0   \n",
       "316450 2017-01-28                   0                    0                 0   \n",
       "316451 2017-01-28                   0                    0                 0   \n",
       "316452 2017-01-28                   0                    0                 0   \n",
       "316453 2017-01-28                   0                    0                 0   \n",
       "\n",
       "        bat_team_India  bat_team_New Zealand  bat_team_Pakistan  \\\n",
       "316449               0                     0                  0   \n",
       "316450               0                     0                  0   \n",
       "316451               0                     0                  0   \n",
       "316452               0                     0                  0   \n",
       "316453               0                     0                  0   \n",
       "\n",
       "        bat_team_South Africa  bat_team_Sri Lanka  bat_team_West Indies  ...  \\\n",
       "316449                      0                   1                     0  ...   \n",
       "316450                      0                   1                     0  ...   \n",
       "316451                      0                   1                     0  ...   \n",
       "316452                      0                   1                     0  ...   \n",
       "316453                      0                   1                     0  ...   \n",
       "\n",
       "        bowl_team_New Zealand  bowl_team_Pakistan  bowl_team_South Africa  \\\n",
       "316449                      0                   0                       1   \n",
       "316450                      0                   0                       1   \n",
       "316451                      0                   0                       1   \n",
       "316452                      0                   0                       1   \n",
       "316453                      0                   0                       1   \n",
       "\n",
       "        bowl_team_Sri Lanka  bowl_team_West Indies  runs  wickets  overs  \\\n",
       "316449                    0                      0    16        2    5.1   \n",
       "316450                    0                      0    16        2    5.2   \n",
       "316451                    0                      0    16        2    5.3   \n",
       "316452                    0                      0    16        2    5.4   \n",
       "316453                    0                      0    16        2    5.5   \n",
       "\n",
       "        runs_last_5  wickets_last_5  \n",
       "316449           16               2  \n",
       "316450           16               2  \n",
       "316451           15               2  \n",
       "316452           15               2  \n",
       "316453           15               2  \n",
       "\n",
       "[5 rows x 24 columns]"
      ]
     },
     "execution_count": 146,
     "metadata": {},
     "output_type": "execute_result"
    }
   ],
   "source": [
    "x_test.head()"
   ]
  },
  {
   "cell_type": "code",
   "execution_count": 147,
   "metadata": {},
   "outputs": [],
   "source": [
    "y_train=encoder_df[encoder_df['date'].dt.year<=2016]['total'].values\n",
    "y_test=encoder_df[encoder_df['date'].dt.year>=2017]['total'].values"
   ]
  },
  {
   "cell_type": "code",
   "execution_count": 149,
   "metadata": {},
   "outputs": [],
   "source": [
    "x_train.drop(labels='date',axis=1,inplace=True)"
   ]
  },
  {
   "cell_type": "code",
   "execution_count": 150,
   "metadata": {},
   "outputs": [],
   "source": [
    "x_test.drop(labels='date',axis=1,inplace=True)"
   ]
  },
  {
   "cell_type": "code",
   "execution_count": 151,
   "metadata": {},
   "outputs": [],
   "source": [
    "from sklearn.linear_model import LinearRegression"
   ]
  },
  {
   "cell_type": "code",
   "execution_count": 152,
   "metadata": {},
   "outputs": [
    {
     "data": {
      "text/plain": [
       "LinearRegression()"
      ]
     },
     "execution_count": 152,
     "metadata": {},
     "output_type": "execute_result"
    }
   ],
   "source": [
    "regression=LinearRegression()\n",
    "regression.fit(x_train,y_train)"
   ]
  },
  {
   "cell_type": "code",
   "execution_count": 154,
   "metadata": {},
   "outputs": [],
   "source": [
    "from sklearn.linear_model import Ridge\n",
    "from sklearn.model_selection import GridSearchCV"
   ]
  },
  {
   "cell_type": "code",
   "execution_count": 155,
   "metadata": {},
   "outputs": [
    {
     "name": "stderr",
     "output_type": "stream",
     "text": [
      "C:\\Users\\Bhaskar\\anaconda3\\lib\\site-packages\\sklearn\\linear_model\\_ridge.py:147: LinAlgWarning: Ill-conditioned matrix (rcond=1.39696e-20): result may not be accurate.\n",
      "  return linalg.solve(A, Xy, sym_pos=True,\n",
      "C:\\Users\\Bhaskar\\anaconda3\\lib\\site-packages\\sklearn\\linear_model\\_ridge.py:147: LinAlgWarning: Ill-conditioned matrix (rcond=1.97408e-21): result may not be accurate.\n",
      "  return linalg.solve(A, Xy, sym_pos=True,\n",
      "C:\\Users\\Bhaskar\\anaconda3\\lib\\site-packages\\sklearn\\linear_model\\_ridge.py:147: LinAlgWarning: Ill-conditioned matrix (rcond=9.56525e-20): result may not be accurate.\n",
      "  return linalg.solve(A, Xy, sym_pos=True,\n",
      "C:\\Users\\Bhaskar\\anaconda3\\lib\\site-packages\\sklearn\\linear_model\\_ridge.py:147: LinAlgWarning: Ill-conditioned matrix (rcond=8.16915e-20): result may not be accurate.\n",
      "  return linalg.solve(A, Xy, sym_pos=True,\n",
      "C:\\Users\\Bhaskar\\anaconda3\\lib\\site-packages\\sklearn\\linear_model\\_ridge.py:147: LinAlgWarning: Ill-conditioned matrix (rcond=7.26697e-20): result may not be accurate.\n",
      "  return linalg.solve(A, Xy, sym_pos=True,\n",
      "C:\\Users\\Bhaskar\\anaconda3\\lib\\site-packages\\sklearn\\linear_model\\_ridge.py:147: LinAlgWarning: Ill-conditioned matrix (rcond=7.11381e-20): result may not be accurate.\n",
      "  return linalg.solve(A, Xy, sym_pos=True,\n",
      "C:\\Users\\Bhaskar\\anaconda3\\lib\\site-packages\\sklearn\\linear_model\\_ridge.py:147: LinAlgWarning: Ill-conditioned matrix (rcond=6.5226e-20): result may not be accurate.\n",
      "  return linalg.solve(A, Xy, sym_pos=True,\n",
      "C:\\Users\\Bhaskar\\anaconda3\\lib\\site-packages\\sklearn\\linear_model\\_ridge.py:147: LinAlgWarning: Ill-conditioned matrix (rcond=8.44367e-18): result may not be accurate.\n",
      "  return linalg.solve(A, Xy, sym_pos=True,\n",
      "C:\\Users\\Bhaskar\\anaconda3\\lib\\site-packages\\sklearn\\linear_model\\_ridge.py:147: LinAlgWarning: Ill-conditioned matrix (rcond=8.52417e-18): result may not be accurate.\n",
      "  return linalg.solve(A, Xy, sym_pos=True,\n",
      "C:\\Users\\Bhaskar\\anaconda3\\lib\\site-packages\\sklearn\\linear_model\\_ridge.py:147: LinAlgWarning: Ill-conditioned matrix (rcond=8.37376e-18): result may not be accurate.\n",
      "  return linalg.solve(A, Xy, sym_pos=True,\n",
      "C:\\Users\\Bhaskar\\anaconda3\\lib\\site-packages\\sklearn\\linear_model\\_ridge.py:147: LinAlgWarning: Ill-conditioned matrix (rcond=8.56571e-18): result may not be accurate.\n",
      "  return linalg.solve(A, Xy, sym_pos=True,\n",
      "C:\\Users\\Bhaskar\\anaconda3\\lib\\site-packages\\sklearn\\linear_model\\_ridge.py:147: LinAlgWarning: Ill-conditioned matrix (rcond=8.79169e-18): result may not be accurate.\n",
      "  return linalg.solve(A, Xy, sym_pos=True,\n"
     ]
    },
    {
     "data": {
      "text/plain": [
       "GridSearchCV(cv=5, estimator=Ridge(),\n",
       "             param_grid={'alpha': [1e-15, 1e-10, 1e-08, 0.001, 0.01, 1, 5, 10,\n",
       "                                   20, 30, 35, 40]},\n",
       "             scoring='neg_mean_squared_error')"
      ]
     },
     "execution_count": 155,
     "metadata": {},
     "output_type": "execute_result"
    }
   ],
   "source": [
    "ridge=Ridge()\n",
    "parameters={'alpha':[1e-15,1e-10,1e-8,1e-3,1e-2,1,5,10,20,30,35,40]}\n",
    "ridge_regression=GridSearchCV(ridge,parameters,scoring='neg_mean_squared_error',cv=5)\n",
    "ridge_regression.fit(x_train,y_train)"
   ]
  },
  {
   "cell_type": "code",
   "execution_count": 156,
   "metadata": {},
   "outputs": [
    {
     "name": "stdout",
     "output_type": "stream",
     "text": [
      "{'alpha': 40}\n",
      "-1498.6661190194147\n"
     ]
    }
   ],
   "source": [
    "print(ridge_regression.best_params_)\n",
    "print(ridge_regression.best_score_)"
   ]
  },
  {
   "cell_type": "code",
   "execution_count": 157,
   "metadata": {},
   "outputs": [],
   "source": [
    "prediction=ridge_regression.predict(x_test)"
   ]
  },
  {
   "cell_type": "code",
   "execution_count": 158,
   "metadata": {},
   "outputs": [
    {
     "data": {
      "text/plain": [
       "<seaborn.axisgrid.FacetGrid at 0x2665b681100>"
      ]
     },
     "execution_count": 158,
     "metadata": {},
     "output_type": "execute_result"
    },
    {
     "data": {
      "image/png": "[encoded data removed]",
      "text/plain": [
       "<Figure size 360x360 with 1 Axes>"
      ]
     },
     "metadata": {
      "needs_background": "light"
     },
     "output_type": "display_data"
    }
   ],
   "source": [
    "sns.displot(y_test-prediction)"
   ]
  },
  {
   "cell_type": "code",
   "execution_count": 159,
   "metadata": {},
   "outputs": [],
   "source": [
    "from sklearn import metrics"
   ]
  },
  {
   "cell_type": "code",
   "execution_count": 160,
   "metadata": {},
   "outputs": [
    {
     "name": "stdout",
     "output_type": "stream",
     "text": [
      "MAE: 30.58240243744712\n",
      "MSE: 1564.8303911177218\n",
      "MAE: 39.55793714436739\n"
     ]
    }
   ],
   "source": [
    "print('MAE:',metrics.mean_absolute_error(y_test,prediction))\n",
    "print('MSE:',metrics.mean_squared_error(y_test,prediction))\n",
    "print('MAE:',np.sqrt(metrics.mean_squared_error(y_test,prediction)))"
   ]
  },
  {
   "cell_type": "code",
   "execution_count": 161,
   "metadata": {},
   "outputs": [],
   "source": [
    "from sklearn.linear_model import Lasso"
   ]
  },
  {
   "cell_type": "code",
   "execution_count": 169,
   "metadata": {},
   "outputs": [
    {
     "name": "stderr",
     "output_type": "stream",
     "text": [
      "C:\\Users\\Bhaskar\\anaconda3\\lib\\site-packages\\sklearn\\linear_model\\_ridge.py:147: LinAlgWarning: Ill-conditioned matrix (rcond=1.39696e-20): result may not be accurate.\n",
      "  return linalg.solve(A, Xy, sym_pos=True,\n",
      "C:\\Users\\Bhaskar\\anaconda3\\lib\\site-packages\\sklearn\\linear_model\\_ridge.py:147: LinAlgWarning: Ill-conditioned matrix (rcond=1.97408e-21): result may not be accurate.\n",
      "  return linalg.solve(A, Xy, sym_pos=True,\n",
      "C:\\Users\\Bhaskar\\anaconda3\\lib\\site-packages\\sklearn\\linear_model\\_ridge.py:147: LinAlgWarning: Ill-conditioned matrix (rcond=9.56525e-20): result may not be accurate.\n",
      "  return linalg.solve(A, Xy, sym_pos=True,\n",
      "C:\\Users\\Bhaskar\\anaconda3\\lib\\site-packages\\sklearn\\linear_model\\_ridge.py:147: LinAlgWarning: Ill-conditioned matrix (rcond=8.16915e-20): result may not be accurate.\n",
      "  return linalg.solve(A, Xy, sym_pos=True,\n",
      "C:\\Users\\Bhaskar\\anaconda3\\lib\\site-packages\\sklearn\\linear_model\\_ridge.py:147: LinAlgWarning: Ill-conditioned matrix (rcond=7.26697e-20): result may not be accurate.\n",
      "  return linalg.solve(A, Xy, sym_pos=True,\n",
      "C:\\Users\\Bhaskar\\anaconda3\\lib\\site-packages\\sklearn\\linear_model\\_ridge.py:147: LinAlgWarning: Ill-conditioned matrix (rcond=7.11381e-20): result may not be accurate.\n",
      "  return linalg.solve(A, Xy, sym_pos=True,\n",
      "C:\\Users\\Bhaskar\\anaconda3\\lib\\site-packages\\sklearn\\linear_model\\_ridge.py:147: LinAlgWarning: Ill-conditioned matrix (rcond=6.5226e-20): result may not be accurate.\n",
      "  return linalg.solve(A, Xy, sym_pos=True,\n",
      "C:\\Users\\Bhaskar\\anaconda3\\lib\\site-packages\\sklearn\\linear_model\\_ridge.py:147: LinAlgWarning: Ill-conditioned matrix (rcond=8.44367e-18): result may not be accurate.\n",
      "  return linalg.solve(A, Xy, sym_pos=True,\n",
      "C:\\Users\\Bhaskar\\anaconda3\\lib\\site-packages\\sklearn\\linear_model\\_ridge.py:147: LinAlgWarning: Ill-conditioned matrix (rcond=8.52417e-18): result may not be accurate.\n",
      "  return linalg.solve(A, Xy, sym_pos=True,\n",
      "C:\\Users\\Bhaskar\\anaconda3\\lib\\site-packages\\sklearn\\linear_model\\_ridge.py:147: LinAlgWarning: Ill-conditioned matrix (rcond=8.37376e-18): result may not be accurate.\n",
      "  return linalg.solve(A, Xy, sym_pos=True,\n",
      "C:\\Users\\Bhaskar\\anaconda3\\lib\\site-packages\\sklearn\\linear_model\\_ridge.py:147: LinAlgWarning: Ill-conditioned matrix (rcond=8.56571e-18): result may not be accurate.\n",
      "  return linalg.solve(A, Xy, sym_pos=True,\n",
      "C:\\Users\\Bhaskar\\anaconda3\\lib\\site-packages\\sklearn\\linear_model\\_ridge.py:147: LinAlgWarning: Ill-conditioned matrix (rcond=8.79169e-18): result may not be accurate.\n",
      "  return linalg.solve(A, Xy, sym_pos=True,\n"
     ]
    },
    {
     "data": {
      "text/plain": [
       "GridSearchCV(cv=5, estimator=Ridge(),\n",
       "             param_grid={'alpha': [1e-15, 1e-10, 1e-08, 0.001, 0.01, 1, 5, 10,\n",
       "                                   20, 30, 35, 40]},\n",
       "             scoring='neg_mean_squared_error')"
      ]
     },
     "execution_count": 169,
     "metadata": {},
     "output_type": "execute_result"
    }
   ],
   "source": [
    "lasso=Lasso()\n",
    "parameters={'alpha':[1e-15,1e-10,1e-8,1e-3,1e-2,1,5,10,20,30,35,40]}\n",
    "lasso_regression=GridSearchCV(ridge,parameters,scoring='neg_mean_squared_error',cv=5)\n",
    "lasso_regression.fit(x_train,y_train)"
   ]
  },
  {
   "cell_type": "code",
   "execution_count": 170,
   "metadata": {},
   "outputs": [
    {
     "name": "stdout",
     "output_type": "stream",
     "text": [
      "-1498.6661190194147\n",
      "{'alpha': 40}\n"
     ]
    }
   ],
   "source": [
    "print(ridge_regression.best_score_)\n",
    "print(ridge_regression.best_params_)"
   ]
  },
  {
   "cell_type": "code",
   "execution_count": 174,
   "metadata": {},
   "outputs": [],
   "source": [
    "prediction1=lasso_regression.predict(x_test)"
   ]
  },
  {
   "cell_type": "code",
   "execution_count": 175,
   "metadata": {},
   "outputs": [
    {
     "data": {
      "text/plain": [
       "<seaborn.axisgrid.FacetGrid at 0x2663874ceb0>"
      ]
     },
     "execution_count": 175,
     "metadata": {},
     "output_type": "execute_result"
    },
    {
     "data": {
      "image/png": "[encoded data removed]",
      "text/plain": [
       "<Figure size 360x360 with 1 Axes>"
      ]
     },
     "metadata": {
      "needs_background": "light"
     },
     "output_type": "display_data"
    }
   ],
   "source": [
    "sns.displot(y_test-prediction1)"
   ]
  },
  {
   "cell_type": "code",
   "execution_count": 176,
   "metadata": {},
   "outputs": [
    {
     "name": "stdout",
     "output_type": "stream",
     "text": [
      "MAE: 30.58240243744712\n",
      "MSE: 1564.8303911177218\n",
      "MAE: 39.55793714436739\n"
     ]
    }
   ],
   "source": [
    "print('MAE:',metrics.mean_absolute_error(y_test,prediction1))\n",
    "print('MSE:',metrics.mean_squared_error(y_test,prediction1))\n",
    "print('MAE:',np.sqrt(metrics.mean_squared_error(y_test,prediction1)))"
   ]
  },
  {
   "cell_type": "code",
   "execution_count": null,
   "metadata": {},
   "outputs": [],
   "source": []
  },
  {
   "cell_type": "code",
   "execution_count": null,
   "metadata": {},
   "outputs": [],
   "source": []
  },
  {
   "cell_type": "code",
   "execution_count": null,
   "metadata": {},
   "outputs": [],
   "source": []
  },
  {
   "cell_type": "code",
   "execution_count": null,
   "metadata": {},
   "outputs": [],
   "source": []
  },
  {
   "cell_type": "code",
   "execution_count": null,
   "metadata": {},
   "outputs": [],
   "source": []
  }
 ],
 "metadata": {
  "kernelspec": {
   "display_name": "Python 3",
   "language": "python",
   "name": "python3"
  },
  "language_info": {
   "codemirror_mode": {
    "name": "ipython",
    "version": 3
   },
   "file_extension": ".py",
   "mimetype": "text/x-python",
   "name": "python",
   "nbconvert_exporter": "python",
   "pygments_lexer": "ipython3",
   "version": "3.8.5"
  }
 },
 "nbformat": 4,
 "nbformat_minor": 4
}
